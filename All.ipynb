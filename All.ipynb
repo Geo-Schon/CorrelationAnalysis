{
 "cells": [
  {
   "cell_type": "code",
   "execution_count": 34,
   "id": "0dea4e79-2bbe-4015-a815-23ac9f5e8193",
   "metadata": {
    "tags": []
   },
   "outputs": [],
   "source": [
    "import numpy as np\n",
    "import pandas as pd\n",
    "from scipy import stats\n",
    "import matplotlib.pyplot as plt"
   ]
  },
  {
   "cell_type": "markdown",
   "id": "17c8cb2c-f488-4fac-b4b4-a4fc25a0633b",
   "metadata": {
    "tags": []
   },
   "source": [
    "### Задача 1\n",
    "**Даны значения величины заработной платы заемщиков банка (zp) и значения их поведенческого кредитного скоринга (ks):  \n",
    "zp = [35, 45, 190, 200, 40, 70, 54, 150, 120, 110]  \n",
    "ks = [401, 574, 874, 919, 459, 739, 653, 902, 746, 832]  \n",
    "Найдите ковариацию этих двух величин с помощью элементарных действий, а затем с помощью функции cov из numpy.   \n",
    "Полученные значения должны быть равны. Найдите коэффициент корреляции Пирсона с помощью ковариации и среднеквадратичных отклонений двух признаков, а затем с использованием функций из библиотек numpy и pandas.**"
   ]
  },
  {
   "cell_type": "code",
   "execution_count": 35,
   "id": "855e6751-ed98-493c-9658-01bb5deac7c2",
   "metadata": {
    "tags": []
   },
   "outputs": [],
   "source": [
    "zp = np.array([35, 45, 190, 200, 40, 70, 54, 150, 120, 110])\n",
    "ks = np.array([401, 574, 874, 919, 459, 739, 653, 902, 746, 832])"
   ]
  },
  {
   "cell_type": "code",
   "execution_count": 36,
   "id": "53d800ba-0f78-4416-a104-e35dcc1fdd92",
   "metadata": {
    "tags": []
   },
   "outputs": [
    {
     "data": {
      "image/png": "[encoded data removed]",
      "text/plain": [
       "<Figure size 640x480 with 1 Axes>"
      ]
     },
     "metadata": {},
     "output_type": "display_data"
    }
   ],
   "source": [
    "plt.scatter(zp,ks)\n",
    "plt.xlabel('Величина заработной платы заемщиков банка')\n",
    "plt.ylabel('Значение поведенческого кредитного скоринга', rotation=90)\n",
    "plt.show()"
   ]
  },
  {
   "cell_type": "markdown",
   "id": "057909f2-6624-442d-83a2-1326a451a711",
   "metadata": {},
   "source": [
    "По графику видим линейную зависимость. Исходим из ожидания, что между данными есть положительная корреляция. \n",
    "  \n",
    "$Сov(xy) = M(XY) - M(X)*M(Y)$\n"
   ]
  },
  {
   "cell_type": "code",
   "execution_count": 37,
   "id": "19139b90-05b2-4c2a-870b-edea2b1055d7",
   "metadata": {
    "tags": []
   },
   "outputs": [],
   "source": [
    "cov = np.mean(zp*ks) - np.mean(zp)*np.mean(ks)"
   ]
  },
  {
   "cell_type": "code",
   "execution_count": 38,
   "id": "b275ea35-eb04-4a3b-b499-da7c75543ce0",
   "metadata": {
    "tags": []
   },
   "outputs": [
    {
     "name": "stdout",
     "output_type": "stream",
     "text": [
      "9157.84\n"
     ]
    }
   ],
   "source": [
    "cov = np.cov(zp, ks, ddof=0)[0, 1]\n",
    "print(f'{cov:.3f}')"
   ]
  },
  {
   "cell_type": "markdown",
   "id": "c6680300-3ae9-4152-927d-de9d34bb5364",
   "metadata": {},
   "source": [
    "Находим коэффициент корреляции Пирсона\n",
    "\n",
    "$corr(zp, ks) = \\frac{Cov(zp, ks)}{\\sqrt{Var(zp)}\\sqrt{Var(ks)}}$  "
   ]
  },
  {
   "cell_type": "code",
   "execution_count": 39,
   "id": "4f728eb7-3e5c-4b0a-8ea4-219f9e186418",
   "metadata": {
    "tags": []
   },
   "outputs": [
    {
     "name": "stdout",
     "output_type": "stream",
     "text": [
      "0.887\n"
     ]
    }
   ],
   "source": [
    "corr = cov / (np.std(zp) * np.std(ks))\n",
    "print(f'{corr:.3f}')"
   ]
  },
  {
   "cell_type": "markdown",
   "id": "608dc598-c67b-44a6-8396-ab8da32de341",
   "metadata": {},
   "source": [
    "$r = \\frac{\\operatorname{cov}(zp, ks)}{\\sigma_{zp} \\sigma_{ks}}$  "
   ]
  },
  {
   "cell_type": "code",
   "execution_count": 40,
   "id": "190df2fa-256d-4c2e-8421-82caaf4606ec",
   "metadata": {
    "tags": []
   },
   "outputs": [
    {
     "name": "stdout",
     "output_type": "stream",
     "text": [
      "0.89\n"
     ]
    }
   ],
   "source": [
    "ratio = cov / (np.std(zp, ddof=0) * np.std(ks, ddof=0))\n",
    "print(f'{ratio:.3f}')"
   ]
  },
  {
   "cell_type": "markdown",
   "id": "23ded399-df45-4106-929a-e35ea28e2bef",
   "metadata": {},
   "source": [
    "##### Numpy"
   ]
  },
  {
   "cell_type": "code",
   "execution_count": 43,
   "id": "1f3c00b4-e1db-4808-b72e-fa9f6ac312de",
   "metadata": {
    "tags": []
   },
   "outputs": [
    {
     "name": "stdout",
     "output_type": "stream",
     "text": [
      "0.89\n"
     ]
    }
   ],
   "source": [
    "corr_numpy = np.corrcoef(zp, ks)[0][1]\n",
    "print(f'{corr_numpy:.3f}')"
   ]
  },
  {
   "cell_type": "markdown",
   "id": "de4d0c98-a67a-44b1-a710-f40e0413d873",
   "metadata": {},
   "source": [
    "##### Pandas"
   ]
  },
  {
   "cell_type": "code",
   "execution_count": 44,
   "id": "decaaf78-fa1b-4d5b-a861-feee264a911b",
   "metadata": {
    "tags": []
   },
   "outputs": [
    {
     "name": "stdout",
     "output_type": "stream",
     "text": [
      "0.887\n"
     ]
    }
   ],
   "source": [
    "corr_pandas = pd.Series(zp).corr(pd.Series(ks), method='pearson')\n",
    "print(f'{corr_pandas:.3f}')"
   ]
  },
  {
   "cell_type": "markdown",
   "id": "1bc13f11-50ce-4b75-a287-5de5fcab9712",
   "metadata": {},
   "source": [
    "#### Задача 2 \n",
    "**Измерены значения IQ выборки студентов, обучающихся в местных технических вузах:  \n",
    "131, 125, 115, 122, 131, 115, 107, 99, 125, 111.  \n",
    "Известно, что в генеральной совокупности IQ распределен нормально.  \n",
    "Найдите доверительный интервал для математического ожидания с надежностью 0.95.**"
   ]
  },
  {
   "cell_type": "code",
   "execution_count": 45,
   "id": "b59f95f6-257b-4ae4-a43e-f4976f98d294",
   "metadata": {
    "tags": []
   },
   "outputs": [],
   "source": [
    "iq = np.array([131, 125, 115, 122, 131, 115, 107, 99, 125, 111])\n",
    "alpha = 0.05"
   ]
  },
  {
   "cell_type": "markdown",
   "id": "cc78c71e-45f7-44c5-97c7-235c7ee9cf33",
   "metadata": {},
   "source": [
    "Так как среднее квадратичное отклонение неизвестностно, для расчета довереительного интервала используем t критерий и формулу среднего арифметического    \n",
    "$\\overline{X}\\underline{+}t\\frac{\\alpha}{2}*\\frac{\\sigma}{\\sqrt{n}}$ "
   ]
  },
  {
   "cell_type": "code",
   "execution_count": 46,
   "id": "951a2b77-45fa-4300-a0db-2f550bd4ff37",
   "metadata": {
    "tags": []
   },
   "outputs": [
    {
     "name": "stdout",
     "output_type": "stream",
     "text": [
      "Размер выборки: 10\n",
      "Несмещенное среднее квадратическое отклонение: 10.55\n",
      "Среднее выборочное: 118.10\n"
     ]
    }
   ],
   "source": [
    "n = iq.size\n",
    "std = iq.std(ddof=1)\n",
    "mean = iq.mean()\n",
    "print(f'Размер выборки: {n}\\n'f'Несмещенное среднее квадратическое отклонение: {std:.2f}\\n'f'Среднее выборочное: {mean:.2f}')\n"
   ]
  },
  {
   "cell_type": "code",
   "execution_count": null,
   "id": "bda3cbda-51b4-45c7-a6a5-1c17548e544a",
   "metadata": {},
   "outputs": [],
   "source": [
    "Находим t значение и отклонение"
   ]
  },
  {
   "cell_type": "code",
   "execution_count": 48,
   "id": "81f9a723-871b-4117-a32a-699b3b501bd6",
   "metadata": {
    "tags": []
   },
   "outputs": [
    {
     "name": "stdout",
     "output_type": "stream",
     "text": [
      "t значение: 2.26\n",
      "Отклонение: 7.54\n"
     ]
    }
   ],
   "source": [
    "t = stats.t.ppf(1 - alpha / 2, n - 1)\n",
    "d = t * std / (n) ** 0.5\n",
    "print(f't значение: {t:.2f}\\n'f'Отклонение: {d:.2f}')"
   ]
  },
  {
   "cell_type": "code",
   "execution_count": 49,
   "id": "6d3fdfb4-c8ee-49e4-9aa1-3308ad2f22fe",
   "metadata": {
    "tags": []
   },
   "outputs": [
    {
     "name": "stdout",
     "output_type": "stream",
     "text": [
      "Доверительный интервал для математического ожидания с надежностью 0.95 составляет:  110.56; 125.64\n"
     ]
    }
   ],
   "source": [
    "min = mean - d\n",
    "max = mean + d\n",
    "print(f'Доверительный интервал для математического ожидания с надежностью 0.95 составляет: {min: .2f};{max: .2f}')"
   ]
  },
  {
   "cell_type": "markdown",
   "id": "635eb66d-9ad8-4cfc-8b70-365f828e8f8a",
   "metadata": {},
   "source": [
    "#### Задача 3\n",
    "**Известно, что рост футболистов в сборной распределен нормально с дисперсией генеральной совокупности, равной 25 кв.см. Объем выборки равен 27,  \n",
    "среднее выборочное составляет 174.2. Найдите доверительный интервал для математического ожидания с надежностью 0.95.**"
   ]
  },
  {
   "cell_type": "markdown",
   "id": "88391668-0a21-42a4-ac14-098d45b4f31b",
   "metadata": {},
   "source": [
    "Так как среднее квадратичное отклонение известно, используем z критерий и формулу для среднего арифметического  \n",
    "$\\overline{X}\\underline{+}z\\frac{\\alpha}{2}*\\frac{\\sigma}{\\sqrt{n}}$ "
   ]
  },
  {
   "cell_type": "code",
   "execution_count": 50,
   "id": "c49ac406-4bc6-4725-bdc5-ddc0bbfc44ee",
   "metadata": {
    "tags": []
   },
   "outputs": [
    {
     "name": "stdout",
     "output_type": "stream",
     "text": [
      "Доверительный интервал для математического ожидания с надежностью 0.95:  147.30; 201.10\n"
     ]
    }
   ],
   "source": [
    "var = 25\n",
    "n = 27\n",
    "mean = 174.2\n",
    "std = (var)**0.5\n",
    "alpha = 0.05\n",
    "z=stats.norm.ppf(1-alpha/2,n-1)\n",
    "d=z*std/(n)**0.5\n",
    "min = mean - d\n",
    "max = mean + d\n",
    "print(f'Доверительный интервал для математического ожидания с надежностью 0.95: {min: .2f};{max: .2f}')\n"
   ]
  },
  {
   "cell_type": "code",
   "execution_count": null,
   "id": "cb7a09b2-1724-49e8-976f-6b2da3a63a71",
   "metadata": {},
   "outputs": [],
   "source": []
  }
 ],
 "metadata": {
  "kernelspec": {
   "display_name": "Python 3 (ipykernel)",
   "language": "python",
   "name": "python3"
  },
  "language_info": {
   "codemirror_mode": {
    "name": "ipython",
    "version": 3
   },
   "file_extension": ".py",
   "mimetype": "text/x-python",
   "name": "python",
   "nbconvert_exporter": "python",
   "pygments_lexer": "ipython3",
   "version": "3.11.4"
  }
 },
 "nbformat": 4,
 "nbformat_minor": 5
}
